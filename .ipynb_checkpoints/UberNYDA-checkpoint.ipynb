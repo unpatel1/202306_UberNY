{
 "cells": [
  {
   "cell_type": "markdown",
   "id": "796a7630",
   "metadata": {},
   "source": [
    "# 202306 - Uber New York Data Analysis\n",
    "06/11/2023"
   ]
  },
  {
   "cell_type": "code",
   "execution_count": 1,
   "id": "341caa33",
   "metadata": {},
   "outputs": [],
   "source": [
    "import pandas as pd\n",
    "import numpy as np\n",
    "import seaborn as sns\n",
    "import matplotlib.pyplot as plt"
   ]
  },
  {
   "cell_type": "code",
   "execution_count": 2,
   "id": "247c72d7",
   "metadata": {},
   "outputs": [],
   "source": [
    "import os"
   ]
  },
  {
   "cell_type": "code",
   "execution_count": 3,
   "id": "eb8f7030",
   "metadata": {},
   "outputs": [
    {
     "data": {
      "text/plain": [
       "['other-American_B01362.csv',\n",
       " 'other-Carmel_B00256.csv',\n",
       " 'other-Dial7_B00887.csv',\n",
       " 'other-Diplo_B01196.csv',\n",
       " 'other-Federal_02216.csv',\n",
       " 'other-FHV-services_jan-aug-2015.csv',\n",
       " 'other-Firstclass_B01536.csv',\n",
       " 'other-Highclass_B01717.csv',\n",
       " 'other-Lyft_B02510.csv',\n",
       " 'other-Prestige_B01338.csv',\n",
       " 'other-Skyline_B00111.csv',\n",
       " 'Uber-Jan-Feb-FOIL.csv',\n",
       " 'uber-raw-data-apr14.csv',\n",
       " 'uber-raw-data-aug14.csv',\n",
       " 'uber-raw-data-janjune-15.csv',\n",
       " 'uber-raw-data-janjune-15_sample.csv',\n",
       " 'uber-raw-data-jul14.csv',\n",
       " 'uber-raw-data-jun14.csv',\n",
       " 'uber-raw-data-may14.csv',\n",
       " 'uber-raw-data-sep14.csv',\n",
       " 'uber_analysis_shan_singh.ipynb']"
      ]
     },
     "execution_count": 3,
     "metadata": {},
     "output_type": "execute_result"
    }
   ],
   "source": [
    "os.listdir(r\"C:\\Users\\unpat\\_Projects\\202306_UberNY files\")"
   ]
  },
  {
   "cell_type": "code",
   "execution_count": 4,
   "id": "caf528ee",
   "metadata": {},
   "outputs": [],
   "source": [
    "uber_15 = pd.read_csv(r\"C:\\Users\\unpat\\_Projects\\202306_UberNY files/uber-raw-data-janjune-15_sample.csv\")"
   ]
  },
  {
   "cell_type": "code",
   "execution_count": 5,
   "id": "a4faeeda",
   "metadata": {},
   "outputs": [
    {
     "data": {
      "text/plain": [
       "(100000, 4)"
      ]
     },
     "execution_count": 5,
     "metadata": {},
     "output_type": "execute_result"
    }
   ],
   "source": [
    "uber_15.shape"
   ]
  },
  {
   "cell_type": "code",
   "execution_count": 6,
   "id": "4cc81e15",
   "metadata": {},
   "outputs": [
    {
     "data": {
      "text/plain": [
       "pandas.core.frame.DataFrame"
      ]
     },
     "execution_count": 6,
     "metadata": {},
     "output_type": "execute_result"
    }
   ],
   "source": [
    "type(uber_15)"
   ]
  },
  {
   "cell_type": "code",
   "execution_count": 7,
   "id": "9d4083f1",
   "metadata": {},
   "outputs": [
    {
     "data": {
      "text/plain": [
       "0        False\n",
       "1        False\n",
       "2        False\n",
       "3        False\n",
       "4        False\n",
       "         ...  \n",
       "99995    False\n",
       "99996    False\n",
       "99997    False\n",
       "99998    False\n",
       "99999    False\n",
       "Length: 100000, dtype: bool"
      ]
     },
     "execution_count": 7,
     "metadata": {},
     "output_type": "execute_result"
    }
   ],
   "source": [
    "uber_15.duplicated()"
   ]
  },
  {
   "cell_type": "code",
   "execution_count": 8,
   "id": "3b369660",
   "metadata": {},
   "outputs": [
    {
     "data": {
      "text/plain": [
       "54"
      ]
     },
     "execution_count": 8,
     "metadata": {},
     "output_type": "execute_result"
    }
   ],
   "source": [
    "uber_15.duplicated().sum()"
   ]
  },
  {
   "cell_type": "code",
   "execution_count": 9,
   "id": "09afea9f",
   "metadata": {},
   "outputs": [],
   "source": [
    "uber_15.drop_duplicates(inplace = True)"
   ]
  },
  {
   "cell_type": "code",
   "execution_count": 10,
   "id": "47d0fae1",
   "metadata": {},
   "outputs": [
    {
     "data": {
      "text/plain": [
       "0"
      ]
     },
     "execution_count": 10,
     "metadata": {},
     "output_type": "execute_result"
    }
   ],
   "source": [
    "uber_15.duplicated().sum()"
   ]
  },
  {
   "cell_type": "code",
   "execution_count": 11,
   "id": "35760049",
   "metadata": {},
   "outputs": [
    {
     "data": {
      "text/plain": [
       "(99946, 4)"
      ]
     },
     "execution_count": 11,
     "metadata": {},
     "output_type": "execute_result"
    }
   ],
   "source": [
    "uber_15.shape"
   ]
  },
  {
   "cell_type": "code",
   "execution_count": 12,
   "id": "9b7d30e6",
   "metadata": {},
   "outputs": [
    {
     "data": {
      "text/plain": [
       "Dispatching_base_num    object\n",
       "Pickup_date             object\n",
       "Affiliated_base_num     object\n",
       "locationID               int64\n",
       "dtype: object"
      ]
     },
     "execution_count": 12,
     "metadata": {},
     "output_type": "execute_result"
    }
   ],
   "source": [
    "uber_15.dtypes"
   ]
  },
  {
   "cell_type": "code",
   "execution_count": 13,
   "id": "d9484119",
   "metadata": {},
   "outputs": [
    {
     "data": {
      "text/plain": [
       "Dispatching_base_num       0\n",
       "Pickup_date                0\n",
       "Affiliated_base_num     1116\n",
       "locationID                 0\n",
       "dtype: int64"
      ]
     },
     "execution_count": 13,
     "metadata": {},
     "output_type": "execute_result"
    }
   ],
   "source": [
    "uber_15.isnull().sum()"
   ]
  },
  {
   "cell_type": "code",
   "execution_count": 14,
   "id": "b25aa2b9",
   "metadata": {},
   "outputs": [
    {
     "data": {
      "text/plain": [
       "'2015-05-02 21:43:00'"
      ]
     },
     "execution_count": 14,
     "metadata": {},
     "output_type": "execute_result"
    }
   ],
   "source": [
    "uber_15['Pickup_date'][0]"
   ]
  },
  {
   "cell_type": "code",
   "execution_count": 15,
   "id": "7c6bf68b",
   "metadata": {},
   "outputs": [
    {
     "data": {
      "text/plain": [
       "str"
      ]
     },
     "execution_count": 15,
     "metadata": {},
     "output_type": "execute_result"
    }
   ],
   "source": [
    "type(uber_15['Pickup_date'][0])"
   ]
  },
  {
   "cell_type": "code",
   "execution_count": 16,
   "id": "f691d193",
   "metadata": {},
   "outputs": [
    {
     "data": {
      "text/plain": [
       "0       2015-05-02 21:43:00\n",
       "1       2015-01-20 19:52:59\n",
       "2       2015-03-19 20:26:00\n",
       "3       2015-04-10 17:38:00\n",
       "4       2015-03-23 07:03:00\n",
       "                ...        \n",
       "99995   2015-04-13 16:12:00\n",
       "99996   2015-03-06 21:32:00\n",
       "99997   2015-03-19 19:56:00\n",
       "99998   2015-05-02 16:02:00\n",
       "99999   2015-06-24 16:04:00\n",
       "Name: Pickup_date, Length: 99946, dtype: datetime64[ns]"
      ]
     },
     "execution_count": 16,
     "metadata": {},
     "output_type": "execute_result"
    }
   ],
   "source": [
    "# converting to datetime\n",
    "pd.to_datetime(uber_15['Pickup_date'])"
   ]
  },
  {
   "cell_type": "code",
   "execution_count": 17,
   "id": "c11dd5bd",
   "metadata": {},
   "outputs": [],
   "source": [
    "uber_15['Pickup_date'] = pd.to_datetime(uber_15['Pickup_date'])"
   ]
  },
  {
   "cell_type": "code",
   "execution_count": 18,
   "id": "a85611b7",
   "metadata": {},
   "outputs": [
    {
     "data": {
      "text/plain": [
       "dtype('<M8[ns]')"
      ]
     },
     "execution_count": 18,
     "metadata": {},
     "output_type": "execute_result"
    }
   ],
   "source": [
    "uber_15['Pickup_date'].dtype"
   ]
  },
  {
   "cell_type": "code",
   "execution_count": 19,
   "id": "dcd7b398",
   "metadata": {},
   "outputs": [
    {
     "data": {
      "text/plain": [
       "Timestamp('2015-05-02 21:43:00')"
      ]
     },
     "execution_count": 19,
     "metadata": {},
     "output_type": "execute_result"
    }
   ],
   "source": [
    "uber_15['Pickup_date'][0]"
   ]
  },
  {
   "cell_type": "code",
   "execution_count": 20,
   "id": "368d4610",
   "metadata": {},
   "outputs": [
    {
     "data": {
      "text/plain": [
       "pandas._libs.tslibs.timestamps.Timestamp"
      ]
     },
     "execution_count": 20,
     "metadata": {},
     "output_type": "execute_result"
    }
   ],
   "source": [
    "type(uber_15['Pickup_date'][0])"
   ]
  },
  {
   "cell_type": "code",
   "execution_count": 21,
   "id": "cf9da7b8",
   "metadata": {},
   "outputs": [
    {
     "data": {
      "text/plain": [
       "Dispatching_base_num            object\n",
       "Pickup_date             datetime64[ns]\n",
       "Affiliated_base_num             object\n",
       "locationID                       int64\n",
       "dtype: object"
      ]
     },
     "execution_count": 21,
     "metadata": {},
     "output_type": "execute_result"
    }
   ],
   "source": [
    "uber_15.dtypes"
   ]
  },
  {
   "cell_type": "markdown",
   "id": "df3d0a87",
   "metadata": {},
   "source": [
    "### Problem: Which month have the MAX Uber pickups in New York city?"
   ]
  },
  {
   "cell_type": "code",
   "execution_count": 22,
   "id": "0ad4cd02",
   "metadata": {},
   "outputs": [
    {
     "data": {
      "text/html": [
       "<div>\n",
       "<style scoped>\n",
       "    .dataframe tbody tr th:only-of-type {\n",
       "        vertical-align: middle;\n",
       "    }\n",
       "\n",
       "    .dataframe tbody tr th {\n",
       "        vertical-align: top;\n",
       "    }\n",
       "\n",
       "    .dataframe thead th {\n",
       "        text-align: right;\n",
       "    }\n",
       "</style>\n",
       "<table border=\"1\" class=\"dataframe\">\n",
       "  <thead>\n",
       "    <tr style=\"text-align: right;\">\n",
       "      <th></th>\n",
       "      <th>Dispatching_base_num</th>\n",
       "      <th>Pickup_date</th>\n",
       "      <th>Affiliated_base_num</th>\n",
       "      <th>locationID</th>\n",
       "    </tr>\n",
       "  </thead>\n",
       "  <tbody>\n",
       "    <tr>\n",
       "      <th>0</th>\n",
       "      <td>B02617</td>\n",
       "      <td>2015-05-02 21:43:00</td>\n",
       "      <td>B02764</td>\n",
       "      <td>237</td>\n",
       "    </tr>\n",
       "    <tr>\n",
       "      <th>1</th>\n",
       "      <td>B02682</td>\n",
       "      <td>2015-01-20 19:52:59</td>\n",
       "      <td>B02682</td>\n",
       "      <td>231</td>\n",
       "    </tr>\n",
       "    <tr>\n",
       "      <th>2</th>\n",
       "      <td>B02617</td>\n",
       "      <td>2015-03-19 20:26:00</td>\n",
       "      <td>B02617</td>\n",
       "      <td>161</td>\n",
       "    </tr>\n",
       "    <tr>\n",
       "      <th>3</th>\n",
       "      <td>B02764</td>\n",
       "      <td>2015-04-10 17:38:00</td>\n",
       "      <td>B02764</td>\n",
       "      <td>107</td>\n",
       "    </tr>\n",
       "    <tr>\n",
       "      <th>4</th>\n",
       "      <td>B02764</td>\n",
       "      <td>2015-03-23 07:03:00</td>\n",
       "      <td>B00111</td>\n",
       "      <td>140</td>\n",
       "    </tr>\n",
       "  </tbody>\n",
       "</table>\n",
       "</div>"
      ],
      "text/plain": [
       "  Dispatching_base_num         Pickup_date Affiliated_base_num  locationID\n",
       "0               B02617 2015-05-02 21:43:00              B02764         237\n",
       "1               B02682 2015-01-20 19:52:59              B02682         231\n",
       "2               B02617 2015-03-19 20:26:00              B02617         161\n",
       "3               B02764 2015-04-10 17:38:00              B02764         107\n",
       "4               B02764 2015-03-23 07:03:00              B00111         140"
      ]
     },
     "execution_count": 22,
     "metadata": {},
     "output_type": "execute_result"
    }
   ],
   "source": [
    "uber_15.head()"
   ]
  },
  {
   "cell_type": "code",
   "execution_count": 23,
   "id": "9e99a6c0",
   "metadata": {},
   "outputs": [
    {
     "data": {
      "text/plain": [
       "0    5\n",
       "1    1\n",
       "2    3\n",
       "3    4\n",
       "4    3\n",
       "Name: Pickup_date, dtype: int64"
      ]
     },
     "execution_count": 23,
     "metadata": {},
     "output_type": "execute_result"
    }
   ],
   "source": [
    "uber_15['Pickup_date'].dt.month.head()"
   ]
  },
  {
   "cell_type": "code",
   "execution_count": 24,
   "id": "3aca28e3",
   "metadata": {},
   "outputs": [
    {
     "data": {
      "text/plain": [
       "0        May\n",
       "1    January\n",
       "2      March\n",
       "3      April\n",
       "4      March\n",
       "Name: Pickup_date, dtype: object"
      ]
     },
     "execution_count": 24,
     "metadata": {},
     "output_type": "execute_result"
    }
   ],
   "source": [
    "uber_15['Pickup_date'].dt.month_name().head()"
   ]
  },
  {
   "cell_type": "code",
   "execution_count": 25,
   "id": "7cc52c99",
   "metadata": {},
   "outputs": [],
   "source": [
    "uber_15['month'] = uber_15['Pickup_date'].dt.month_name()"
   ]
  },
  {
   "cell_type": "code",
   "execution_count": 26,
   "id": "89c46106",
   "metadata": {},
   "outputs": [
    {
     "data": {
      "text/plain": [
       "0            May\n",
       "1        January\n",
       "2          March\n",
       "3          April\n",
       "4          March\n",
       "          ...   \n",
       "99995      April\n",
       "99996      March\n",
       "99997      March\n",
       "99998        May\n",
       "99999       June\n",
       "Name: month, Length: 99946, dtype: object"
      ]
     },
     "execution_count": 26,
     "metadata": {},
     "output_type": "execute_result"
    }
   ],
   "source": [
    "uber_15['month']"
   ]
  },
  {
   "cell_type": "code",
   "execution_count": 27,
   "id": "c5e92508",
   "metadata": {},
   "outputs": [
    {
     "data": {
      "text/plain": [
       "<AxesSubplot:>"
      ]
     },
     "execution_count": 27,
     "metadata": {},
     "output_type": "execute_result"
    },
    {
     "data": {
      "image/png": "[encoded data removed]",
      "text/plain": [
       "<Figure size 432x288 with 1 Axes>"
      ]
     },
     "metadata": {
      "needs_background": "light"
     },
     "output_type": "display_data"
    }
   ],
   "source": [
    "uber_15['month'].value_counts().plot()"
   ]
  },
  {
   "cell_type": "code",
   "execution_count": 28,
   "id": "0f25a549",
   "metadata": {},
   "outputs": [
    {
     "data": {
      "text/plain": [
       "<AxesSubplot:>"
      ]
     },
     "execution_count": 28,
     "metadata": {},
     "output_type": "execute_result"
    },
    {
     "data": {
      "image/png": "[encoded data removed]",
      "text/plain": [
       "<Figure size 432x288 with 1 Axes>"
      ]
     },
     "metadata": {
      "needs_background": "light"
     },
     "output_type": "display_data"
    }
   ],
   "source": [
    "uber_15['month'].value_counts().plot(kind = 'bar')"
   ]
  },
  {
   "cell_type": "code",
   "execution_count": 29,
   "id": "43a9661c",
   "metadata": {},
   "outputs": [
    {
     "data": {
      "text/plain": [
       "0         Saturday\n",
       "1          Tuesday\n",
       "2         Thursday\n",
       "3           Friday\n",
       "4           Monday\n",
       "           ...    \n",
       "99995       Monday\n",
       "99996       Friday\n",
       "99997     Thursday\n",
       "99998     Saturday\n",
       "99999    Wednesday\n",
       "Name: Pickup_date, Length: 99946, dtype: object"
      ]
     },
     "execution_count": 29,
     "metadata": {},
     "output_type": "execute_result"
    }
   ],
   "source": [
    "uber_15['Pickup_date'].dt.day_name()"
   ]
  },
  {
   "cell_type": "code",
   "execution_count": 30,
   "id": "f1849c9f",
   "metadata": {},
   "outputs": [],
   "source": [
    "uber_15['weekday'] = uber_15['Pickup_date'].dt.day_name()"
   ]
  },
  {
   "cell_type": "code",
   "execution_count": 31,
   "id": "5ad1bd4b",
   "metadata": {},
   "outputs": [
    {
     "data": {
      "text/plain": [
       "0         2\n",
       "1        20\n",
       "2        19\n",
       "3        10\n",
       "4        23\n",
       "         ..\n",
       "99995    13\n",
       "99996     6\n",
       "99997    19\n",
       "99998     2\n",
       "99999    24\n",
       "Name: Pickup_date, Length: 99946, dtype: int64"
      ]
     },
     "execution_count": 31,
     "metadata": {},
     "output_type": "execute_result"
    }
   ],
   "source": [
    "uber_15['Pickup_date'].dt.day"
   ]
  },
  {
   "cell_type": "code",
   "execution_count": 32,
   "id": "2956af0a",
   "metadata": {},
   "outputs": [],
   "source": [
    "uber_15['day'] = uber_15['Pickup_date'].dt.day"
   ]
  },
  {
   "cell_type": "code",
   "execution_count": 33,
   "id": "41148eab",
   "metadata": {},
   "outputs": [
    {
     "data": {
      "text/plain": [
       "0        21\n",
       "1        19\n",
       "2        20\n",
       "3        17\n",
       "4         7\n",
       "         ..\n",
       "99995    16\n",
       "99996    21\n",
       "99997    19\n",
       "99998    16\n",
       "99999    16\n",
       "Name: Pickup_date, Length: 99946, dtype: int64"
      ]
     },
     "execution_count": 33,
     "metadata": {},
     "output_type": "execute_result"
    }
   ],
   "source": [
    "uber_15['Pickup_date'].dt.hour"
   ]
  },
  {
   "cell_type": "code",
   "execution_count": 34,
   "id": "4446f30e",
   "metadata": {},
   "outputs": [],
   "source": [
    "uber_15['hour'] = uber_15['Pickup_date'].dt.hour"
   ]
  },
  {
   "cell_type": "code",
   "execution_count": 35,
   "id": "d4b9b840",
   "metadata": {},
   "outputs": [
    {
     "data": {
      "text/plain": [
       "0        43\n",
       "1        52\n",
       "2        26\n",
       "3        38\n",
       "4         3\n",
       "         ..\n",
       "99995    12\n",
       "99996    32\n",
       "99997    56\n",
       "99998     2\n",
       "99999     4\n",
       "Name: Pickup_date, Length: 99946, dtype: int64"
      ]
     },
     "execution_count": 35,
     "metadata": {},
     "output_type": "execute_result"
    }
   ],
   "source": [
    "uber_15['Pickup_date'].dt.minute"
   ]
  },
  {
   "cell_type": "code",
   "execution_count": 36,
   "id": "b14259e2",
   "metadata": {},
   "outputs": [],
   "source": [
    "uber_15['minute'] = uber_15['Pickup_date'].dt.minute"
   ]
  },
  {
   "cell_type": "code",
   "execution_count": 37,
   "id": "c35626ae",
   "metadata": {},
   "outputs": [
    {
     "data": {
      "text/html": [
       "<div>\n",
       "<style scoped>\n",
       "    .dataframe tbody tr th:only-of-type {\n",
       "        vertical-align: middle;\n",
       "    }\n",
       "\n",
       "    .dataframe tbody tr th {\n",
       "        vertical-align: top;\n",
       "    }\n",
       "\n",
       "    .dataframe thead th {\n",
       "        text-align: right;\n",
       "    }\n",
       "</style>\n",
       "<table border=\"1\" class=\"dataframe\">\n",
       "  <thead>\n",
       "    <tr style=\"text-align: right;\">\n",
       "      <th></th>\n",
       "      <th>Dispatching_base_num</th>\n",
       "      <th>Pickup_date</th>\n",
       "      <th>Affiliated_base_num</th>\n",
       "      <th>locationID</th>\n",
       "      <th>month</th>\n",
       "      <th>weekday</th>\n",
       "      <th>day</th>\n",
       "      <th>hour</th>\n",
       "      <th>minute</th>\n",
       "    </tr>\n",
       "  </thead>\n",
       "  <tbody>\n",
       "    <tr>\n",
       "      <th>0</th>\n",
       "      <td>B02617</td>\n",
       "      <td>2015-05-02 21:43:00</td>\n",
       "      <td>B02764</td>\n",
       "      <td>237</td>\n",
       "      <td>May</td>\n",
       "      <td>Saturday</td>\n",
       "      <td>2</td>\n",
       "      <td>21</td>\n",
       "      <td>43</td>\n",
       "    </tr>\n",
       "    <tr>\n",
       "      <th>1</th>\n",
       "      <td>B02682</td>\n",
       "      <td>2015-01-20 19:52:59</td>\n",
       "      <td>B02682</td>\n",
       "      <td>231</td>\n",
       "      <td>January</td>\n",
       "      <td>Tuesday</td>\n",
       "      <td>20</td>\n",
       "      <td>19</td>\n",
       "      <td>52</td>\n",
       "    </tr>\n",
       "    <tr>\n",
       "      <th>2</th>\n",
       "      <td>B02617</td>\n",
       "      <td>2015-03-19 20:26:00</td>\n",
       "      <td>B02617</td>\n",
       "      <td>161</td>\n",
       "      <td>March</td>\n",
       "      <td>Thursday</td>\n",
       "      <td>19</td>\n",
       "      <td>20</td>\n",
       "      <td>26</td>\n",
       "    </tr>\n",
       "  </tbody>\n",
       "</table>\n",
       "</div>"
      ],
      "text/plain": [
       "  Dispatching_base_num         Pickup_date Affiliated_base_num  locationID  \\\n",
       "0               B02617 2015-05-02 21:43:00              B02764         237   \n",
       "1               B02682 2015-01-20 19:52:59              B02682         231   \n",
       "2               B02617 2015-03-19 20:26:00              B02617         161   \n",
       "\n",
       "     month   weekday  day  hour  minute  \n",
       "0      May  Saturday    2    21      43  \n",
       "1  January   Tuesday   20    19      52  \n",
       "2    March  Thursday   19    20      26  "
      ]
     },
     "execution_count": 37,
     "metadata": {},
     "output_type": "execute_result"
    }
   ],
   "source": [
    "uber_15.head(3)"
   ]
  },
  {
   "cell_type": "code",
   "execution_count": 38,
   "id": "fc2aeaa3",
   "metadata": {},
   "outputs": [
    {
     "data": {
      "text/html": [
       "<div>\n",
       "<style scoped>\n",
       "    .dataframe tbody tr th:only-of-type {\n",
       "        vertical-align: middle;\n",
       "    }\n",
       "\n",
       "    .dataframe tbody tr th {\n",
       "        vertical-align: top;\n",
       "    }\n",
       "\n",
       "    .dataframe thead th {\n",
       "        text-align: right;\n",
       "    }\n",
       "</style>\n",
       "<table border=\"1\" class=\"dataframe\">\n",
       "  <thead>\n",
       "    <tr style=\"text-align: right;\">\n",
       "      <th>weekday</th>\n",
       "      <th>Friday</th>\n",
       "      <th>Monday</th>\n",
       "      <th>Saturday</th>\n",
       "      <th>Sunday</th>\n",
       "      <th>Thursday</th>\n",
       "      <th>Tuesday</th>\n",
       "      <th>Wednesday</th>\n",
       "    </tr>\n",
       "    <tr>\n",
       "      <th>month</th>\n",
       "      <th></th>\n",
       "      <th></th>\n",
       "      <th></th>\n",
       "      <th></th>\n",
       "      <th></th>\n",
       "      <th></th>\n",
       "      <th></th>\n",
       "    </tr>\n",
       "  </thead>\n",
       "  <tbody>\n",
       "    <tr>\n",
       "      <th>April</th>\n",
       "      <td>2365</td>\n",
       "      <td>1833</td>\n",
       "      <td>2508</td>\n",
       "      <td>2052</td>\n",
       "      <td>2823</td>\n",
       "      <td>1880</td>\n",
       "      <td>2521</td>\n",
       "    </tr>\n",
       "    <tr>\n",
       "      <th>February</th>\n",
       "      <td>2655</td>\n",
       "      <td>1970</td>\n",
       "      <td>2550</td>\n",
       "      <td>2183</td>\n",
       "      <td>2396</td>\n",
       "      <td>2129</td>\n",
       "      <td>2013</td>\n",
       "    </tr>\n",
       "    <tr>\n",
       "      <th>January</th>\n",
       "      <td>2508</td>\n",
       "      <td>1353</td>\n",
       "      <td>2745</td>\n",
       "      <td>1651</td>\n",
       "      <td>2378</td>\n",
       "      <td>1444</td>\n",
       "      <td>1740</td>\n",
       "    </tr>\n",
       "    <tr>\n",
       "      <th>June</th>\n",
       "      <td>2793</td>\n",
       "      <td>2848</td>\n",
       "      <td>3037</td>\n",
       "      <td>2485</td>\n",
       "      <td>2767</td>\n",
       "      <td>3187</td>\n",
       "      <td>2503</td>\n",
       "    </tr>\n",
       "    <tr>\n",
       "      <th>March</th>\n",
       "      <td>2465</td>\n",
       "      <td>2115</td>\n",
       "      <td>2522</td>\n",
       "      <td>2379</td>\n",
       "      <td>2093</td>\n",
       "      <td>2388</td>\n",
       "      <td>2007</td>\n",
       "    </tr>\n",
       "    <tr>\n",
       "      <th>May</th>\n",
       "      <td>3262</td>\n",
       "      <td>1865</td>\n",
       "      <td>3519</td>\n",
       "      <td>2944</td>\n",
       "      <td>2627</td>\n",
       "      <td>2115</td>\n",
       "      <td>2328</td>\n",
       "    </tr>\n",
       "  </tbody>\n",
       "</table>\n",
       "</div>"
      ],
      "text/plain": [
       "weekday   Friday  Monday  Saturday  Sunday  Thursday  Tuesday  Wednesday\n",
       "month                                                                   \n",
       "April       2365    1833      2508    2052      2823     1880       2521\n",
       "February    2655    1970      2550    2183      2396     2129       2013\n",
       "January     2508    1353      2745    1651      2378     1444       1740\n",
       "June        2793    2848      3037    2485      2767     3187       2503\n",
       "March       2465    2115      2522    2379      2093     2388       2007\n",
       "May         3262    1865      3519    2944      2627     2115       2328"
      ]
     },
     "execution_count": 38,
     "metadata": {},
     "output_type": "execute_result"
    }
   ],
   "source": [
    "# pivot table\n",
    "pd.crosstab(index = uber_15['month'], columns = uber_15['weekday'])"
   ]
  },
  {
   "cell_type": "code",
   "execution_count": 39,
   "id": "be249c19",
   "metadata": {},
   "outputs": [],
   "source": [
    "pivot = pd.crosstab(index = uber_15['month'], columns = uber_15['weekday'])"
   ]
  },
  {
   "cell_type": "code",
   "execution_count": 40,
   "id": "16e0bc0c",
   "metadata": {},
   "outputs": [
    {
     "data": {
      "text/plain": [
       "pandas.core.frame.DataFrame"
      ]
     },
     "execution_count": 40,
     "metadata": {},
     "output_type": "execute_result"
    }
   ],
   "source": [
    "type(pivot)"
   ]
  },
  {
   "cell_type": "code",
   "execution_count": 41,
   "id": "f55a16a3",
   "metadata": {},
   "outputs": [
    {
     "data": {
      "text/plain": [
       "<AxesSubplot:xlabel='month'>"
      ]
     },
     "execution_count": 41,
     "metadata": {},
     "output_type": "execute_result"
    },
    {
     "data": {
      "image/png": "[encoded data removed]",
      "text/plain": [
       "<Figure size 432x288 with 1 Axes>"
      ]
     },
     "metadata": {
      "needs_background": "light"
     },
     "output_type": "display_data"
    }
   ],
   "source": [
    "# grouped bar chart\n",
    "pivot.plot(kind = 'bar')"
   ]
  },
  {
   "cell_type": "code",
   "execution_count": 42,
   "id": "a0705916",
   "metadata": {},
   "outputs": [
    {
     "data": {
      "text/plain": [
       "<AxesSubplot:xlabel='month'>"
      ]
     },
     "execution_count": 42,
     "metadata": {},
     "output_type": "execute_result"
    },
    {
     "data": {
      "image/png": "[encoded data removed]",
      "text/plain": [
       "<Figure size 720x432 with 1 Axes>"
      ]
     },
     "metadata": {
      "needs_background": "light"
     },
     "output_type": "display_data"
    }
   ],
   "source": [
    "pivot.plot(kind = 'bar', figsize = (10, 6))"
   ]
  },
  {
   "cell_type": "markdown",
   "id": "9946e689",
   "metadata": {},
   "source": [
    "### Find out hourly rush in New York city on all days"
   ]
  },
  {
   "cell_type": "code",
   "execution_count": 43,
   "id": "085b9d09",
   "metadata": {},
   "outputs": [
    {
     "data": {
      "text/plain": [
       "weekday    hour\n",
       "Friday     0        581\n",
       "           1        333\n",
       "           2        197\n",
       "           3        138\n",
       "           4        161\n",
       "                   ... \n",
       "Wednesday  19      1044\n",
       "           20       897\n",
       "           21       949\n",
       "           22       900\n",
       "           23       669\n",
       "Length: 168, dtype: int64"
      ]
     },
     "execution_count": 43,
     "metadata": {},
     "output_type": "execute_result"
    }
   ],
   "source": [
    "uber_15.groupby(['weekday','hour']).size()"
   ]
  },
  {
   "cell_type": "code",
   "execution_count": 44,
   "id": "d7682d2a",
   "metadata": {},
   "outputs": [
    {
     "data": {
      "text/plain": [
       "pandas.core.series.Series"
      ]
     },
     "execution_count": 44,
     "metadata": {},
     "output_type": "execute_result"
    }
   ],
   "source": [
    "type(uber_15.groupby(['weekday','hour']).size())"
   ]
  },
  {
   "cell_type": "code",
   "execution_count": 45,
   "id": "c64444b8",
   "metadata": {},
   "outputs": [
    {
     "data": {
      "text/html": [
       "<div>\n",
       "<style scoped>\n",
       "    .dataframe tbody tr th:only-of-type {\n",
       "        vertical-align: middle;\n",
       "    }\n",
       "\n",
       "    .dataframe tbody tr th {\n",
       "        vertical-align: top;\n",
       "    }\n",
       "\n",
       "    .dataframe thead th {\n",
       "        text-align: right;\n",
       "    }\n",
       "</style>\n",
       "<table border=\"1\" class=\"dataframe\">\n",
       "  <thead>\n",
       "    <tr style=\"text-align: right;\">\n",
       "      <th></th>\n",
       "      <th>weekday</th>\n",
       "      <th>hour</th>\n",
       "      <th>size</th>\n",
       "    </tr>\n",
       "  </thead>\n",
       "  <tbody>\n",
       "    <tr>\n",
       "      <th>0</th>\n",
       "      <td>Friday</td>\n",
       "      <td>0</td>\n",
       "      <td>581</td>\n",
       "    </tr>\n",
       "    <tr>\n",
       "      <th>1</th>\n",
       "      <td>Friday</td>\n",
       "      <td>1</td>\n",
       "      <td>333</td>\n",
       "    </tr>\n",
       "    <tr>\n",
       "      <th>2</th>\n",
       "      <td>Friday</td>\n",
       "      <td>2</td>\n",
       "      <td>197</td>\n",
       "    </tr>\n",
       "    <tr>\n",
       "      <th>3</th>\n",
       "      <td>Friday</td>\n",
       "      <td>3</td>\n",
       "      <td>138</td>\n",
       "    </tr>\n",
       "    <tr>\n",
       "      <th>4</th>\n",
       "      <td>Friday</td>\n",
       "      <td>4</td>\n",
       "      <td>161</td>\n",
       "    </tr>\n",
       "    <tr>\n",
       "      <th>...</th>\n",
       "      <td>...</td>\n",
       "      <td>...</td>\n",
       "      <td>...</td>\n",
       "    </tr>\n",
       "    <tr>\n",
       "      <th>163</th>\n",
       "      <td>Wednesday</td>\n",
       "      <td>19</td>\n",
       "      <td>1044</td>\n",
       "    </tr>\n",
       "    <tr>\n",
       "      <th>164</th>\n",
       "      <td>Wednesday</td>\n",
       "      <td>20</td>\n",
       "      <td>897</td>\n",
       "    </tr>\n",
       "    <tr>\n",
       "      <th>165</th>\n",
       "      <td>Wednesday</td>\n",
       "      <td>21</td>\n",
       "      <td>949</td>\n",
       "    </tr>\n",
       "    <tr>\n",
       "      <th>166</th>\n",
       "      <td>Wednesday</td>\n",
       "      <td>22</td>\n",
       "      <td>900</td>\n",
       "    </tr>\n",
       "    <tr>\n",
       "      <th>167</th>\n",
       "      <td>Wednesday</td>\n",
       "      <td>23</td>\n",
       "      <td>669</td>\n",
       "    </tr>\n",
       "  </tbody>\n",
       "</table>\n",
       "<p>168 rows × 3 columns</p>\n",
       "</div>"
      ],
      "text/plain": [
       "       weekday  hour  size\n",
       "0       Friday     0   581\n",
       "1       Friday     1   333\n",
       "2       Friday     2   197\n",
       "3       Friday     3   138\n",
       "4       Friday     4   161\n",
       "..         ...   ...   ...\n",
       "163  Wednesday    19  1044\n",
       "164  Wednesday    20   897\n",
       "165  Wednesday    21   949\n",
       "166  Wednesday    22   900\n",
       "167  Wednesday    23   669\n",
       "\n",
       "[168 rows x 3 columns]"
      ]
     },
     "execution_count": 45,
     "metadata": {},
     "output_type": "execute_result"
    }
   ],
   "source": [
    "uber_15.groupby(['weekday','hour'], as_index = False).size()"
   ]
  },
  {
   "cell_type": "code",
   "execution_count": 46,
   "id": "a7178b58",
   "metadata": {},
   "outputs": [
    {
     "data": {
      "text/plain": [
       "pandas.core.frame.DataFrame"
      ]
     },
     "execution_count": 46,
     "metadata": {},
     "output_type": "execute_result"
    }
   ],
   "source": [
    "type(uber_15.groupby(['weekday','hour'], as_index = False).size())"
   ]
  },
  {
   "cell_type": "code",
   "execution_count": 47,
   "id": "fab4ff89",
   "metadata": {},
   "outputs": [],
   "source": [
    "summary = uber_15.groupby(['weekday','hour'], as_index = False).size()"
   ]
  },
  {
   "cell_type": "code",
   "execution_count": 48,
   "id": "6955c198",
   "metadata": {},
   "outputs": [
    {
     "data": {
      "text/plain": [
       "<AxesSubplot:xlabel='hour', ylabel='size'>"
      ]
     },
     "execution_count": 48,
     "metadata": {},
     "output_type": "execute_result"
    },
    {
     "data": {
      "image/png": "[encoded data removed]",
      "text/plain": [
       "<Figure size 720x432 with 1 Axes>"
      ]
     },
     "metadata": {
      "needs_background": "light"
     },
     "output_type": "display_data"
    }
   ],
   "source": [
    "plt.figure(figsize=(10,6))\n",
    "sns.pointplot(x=\"hour\", y=\"size\", hue=\"weekday\", data=summary)"
   ]
  },
  {
   "cell_type": "markdown",
   "id": "03bebeb4",
   "metadata": {},
   "source": [
    "### Problem: Which Base_number has most number of active vehicles?"
   ]
  },
  {
   "cell_type": "code",
   "execution_count": 49,
   "id": "3a07685a",
   "metadata": {},
   "outputs": [
    {
     "data": {
      "text/plain": [
       "Index(['Dispatching_base_num', 'Pickup_date', 'Affiliated_base_num',\n",
       "       'locationID', 'month', 'weekday', 'day', 'hour', 'minute'],\n",
       "      dtype='object')"
      ]
     },
     "execution_count": 49,
     "metadata": {},
     "output_type": "execute_result"
    }
   ],
   "source": [
    "uber_15.columns"
   ]
  },
  {
   "cell_type": "code",
   "execution_count": 50,
   "id": "25a982ba",
   "metadata": {},
   "outputs": [
    {
     "data": {
      "text/plain": [
       "['other-American_B01362.csv',\n",
       " 'other-Carmel_B00256.csv',\n",
       " 'other-Dial7_B00887.csv',\n",
       " 'other-Diplo_B01196.csv',\n",
       " 'other-Federal_02216.csv',\n",
       " 'other-FHV-services_jan-aug-2015.csv',\n",
       " 'other-Firstclass_B01536.csv',\n",
       " 'other-Highclass_B01717.csv',\n",
       " 'other-Lyft_B02510.csv',\n",
       " 'other-Prestige_B01338.csv',\n",
       " 'other-Skyline_B00111.csv',\n",
       " 'Uber-Jan-Feb-FOIL.csv',\n",
       " 'uber-raw-data-apr14.csv',\n",
       " 'uber-raw-data-aug14.csv',\n",
       " 'uber-raw-data-janjune-15.csv',\n",
       " 'uber-raw-data-janjune-15_sample.csv',\n",
       " 'uber-raw-data-jul14.csv',\n",
       " 'uber-raw-data-jun14.csv',\n",
       " 'uber-raw-data-may14.csv',\n",
       " 'uber-raw-data-sep14.csv',\n",
       " 'uber_analysis_shan_singh.ipynb']"
      ]
     },
     "execution_count": 50,
     "metadata": {},
     "output_type": "execute_result"
    }
   ],
   "source": [
    "os.listdir(r\"C:\\Users\\unpat\\_Projects\\202306_UberNY files\")"
   ]
  },
  {
   "cell_type": "code",
   "execution_count": 52,
   "id": "3bb4093e",
   "metadata": {},
   "outputs": [
    {
     "data": {
      "text/html": [
       "<div>\n",
       "<style scoped>\n",
       "    .dataframe tbody tr th:only-of-type {\n",
       "        vertical-align: middle;\n",
       "    }\n",
       "\n",
       "    .dataframe tbody tr th {\n",
       "        vertical-align: top;\n",
       "    }\n",
       "\n",
       "    .dataframe thead th {\n",
       "        text-align: right;\n",
       "    }\n",
       "</style>\n",
       "<table border=\"1\" class=\"dataframe\">\n",
       "  <thead>\n",
       "    <tr style=\"text-align: right;\">\n",
       "      <th></th>\n",
       "      <th>dispatching_base_number</th>\n",
       "      <th>date</th>\n",
       "      <th>active_vehicles</th>\n",
       "      <th>trips</th>\n",
       "    </tr>\n",
       "  </thead>\n",
       "  <tbody>\n",
       "    <tr>\n",
       "      <th>0</th>\n",
       "      <td>B02512</td>\n",
       "      <td>1/1/2015</td>\n",
       "      <td>190</td>\n",
       "      <td>1132</td>\n",
       "    </tr>\n",
       "    <tr>\n",
       "      <th>1</th>\n",
       "      <td>B02765</td>\n",
       "      <td>1/1/2015</td>\n",
       "      <td>225</td>\n",
       "      <td>1765</td>\n",
       "    </tr>\n",
       "    <tr>\n",
       "      <th>2</th>\n",
       "      <td>B02764</td>\n",
       "      <td>1/1/2015</td>\n",
       "      <td>3427</td>\n",
       "      <td>29421</td>\n",
       "    </tr>\n",
       "    <tr>\n",
       "      <th>3</th>\n",
       "      <td>B02682</td>\n",
       "      <td>1/1/2015</td>\n",
       "      <td>945</td>\n",
       "      <td>7679</td>\n",
       "    </tr>\n",
       "    <tr>\n",
       "      <th>4</th>\n",
       "      <td>B02617</td>\n",
       "      <td>1/1/2015</td>\n",
       "      <td>1228</td>\n",
       "      <td>9537</td>\n",
       "    </tr>\n",
       "    <tr>\n",
       "      <th>...</th>\n",
       "      <td>...</td>\n",
       "      <td>...</td>\n",
       "      <td>...</td>\n",
       "      <td>...</td>\n",
       "    </tr>\n",
       "    <tr>\n",
       "      <th>349</th>\n",
       "      <td>B02764</td>\n",
       "      <td>2/28/2015</td>\n",
       "      <td>3952</td>\n",
       "      <td>39812</td>\n",
       "    </tr>\n",
       "    <tr>\n",
       "      <th>350</th>\n",
       "      <td>B02617</td>\n",
       "      <td>2/28/2015</td>\n",
       "      <td>1372</td>\n",
       "      <td>14022</td>\n",
       "    </tr>\n",
       "    <tr>\n",
       "      <th>351</th>\n",
       "      <td>B02682</td>\n",
       "      <td>2/28/2015</td>\n",
       "      <td>1386</td>\n",
       "      <td>14472</td>\n",
       "    </tr>\n",
       "    <tr>\n",
       "      <th>352</th>\n",
       "      <td>B02512</td>\n",
       "      <td>2/28/2015</td>\n",
       "      <td>230</td>\n",
       "      <td>1803</td>\n",
       "    </tr>\n",
       "    <tr>\n",
       "      <th>353</th>\n",
       "      <td>B02765</td>\n",
       "      <td>2/28/2015</td>\n",
       "      <td>747</td>\n",
       "      <td>7753</td>\n",
       "    </tr>\n",
       "  </tbody>\n",
       "</table>\n",
       "<p>354 rows × 4 columns</p>\n",
       "</div>"
      ],
      "text/plain": [
       "    dispatching_base_number       date  active_vehicles  trips\n",
       "0                    B02512   1/1/2015              190   1132\n",
       "1                    B02765   1/1/2015              225   1765\n",
       "2                    B02764   1/1/2015             3427  29421\n",
       "3                    B02682   1/1/2015              945   7679\n",
       "4                    B02617   1/1/2015             1228   9537\n",
       "..                      ...        ...              ...    ...\n",
       "349                  B02764  2/28/2015             3952  39812\n",
       "350                  B02617  2/28/2015             1372  14022\n",
       "351                  B02682  2/28/2015             1386  14472\n",
       "352                  B02512  2/28/2015              230   1803\n",
       "353                  B02765  2/28/2015              747   7753\n",
       "\n",
       "[354 rows x 4 columns]"
      ]
     },
     "execution_count": 52,
     "metadata": {},
     "output_type": "execute_result"
    }
   ],
   "source": [
    "pd.read_csv(r\"C:\\Users\\unpat\\_Projects\\202306_UberNY files/Uber-Jan-Feb-FOIL.csv\")"
   ]
  },
  {
   "cell_type": "code",
   "execution_count": 53,
   "id": "81856a76",
   "metadata": {},
   "outputs": [],
   "source": [
    "uber_foil = pd.read_csv(r\"C:\\Users\\unpat\\_Projects\\202306_UberNY files/Uber-Jan-Feb-FOIL.csv\")"
   ]
  },
  {
   "cell_type": "code",
   "execution_count": 54,
   "id": "50d11db1",
   "metadata": {},
   "outputs": [
    {
     "data": {
      "text/plain": [
       "(354, 4)"
      ]
     },
     "execution_count": 54,
     "metadata": {},
     "output_type": "execute_result"
    }
   ],
   "source": [
    "uber_foil.shape"
   ]
  },
  {
   "cell_type": "code",
   "execution_count": 56,
   "id": "3d691432",
   "metadata": {},
   "outputs": [
    {
     "data": {
      "text/html": [
       "<div>\n",
       "<style scoped>\n",
       "    .dataframe tbody tr th:only-of-type {\n",
       "        vertical-align: middle;\n",
       "    }\n",
       "\n",
       "    .dataframe tbody tr th {\n",
       "        vertical-align: top;\n",
       "    }\n",
       "\n",
       "    .dataframe thead th {\n",
       "        text-align: right;\n",
       "    }\n",
       "</style>\n",
       "<table border=\"1\" class=\"dataframe\">\n",
       "  <thead>\n",
       "    <tr style=\"text-align: right;\">\n",
       "      <th></th>\n",
       "      <th>dispatching_base_number</th>\n",
       "      <th>date</th>\n",
       "      <th>active_vehicles</th>\n",
       "      <th>trips</th>\n",
       "    </tr>\n",
       "  </thead>\n",
       "  <tbody>\n",
       "    <tr>\n",
       "      <th>0</th>\n",
       "      <td>B02512</td>\n",
       "      <td>1/1/2015</td>\n",
       "      <td>190</td>\n",
       "      <td>1132</td>\n",
       "    </tr>\n",
       "    <tr>\n",
       "      <th>1</th>\n",
       "      <td>B02765</td>\n",
       "      <td>1/1/2015</td>\n",
       "      <td>225</td>\n",
       "      <td>1765</td>\n",
       "    </tr>\n",
       "    <tr>\n",
       "      <th>2</th>\n",
       "      <td>B02764</td>\n",
       "      <td>1/1/2015</td>\n",
       "      <td>3427</td>\n",
       "      <td>29421</td>\n",
       "    </tr>\n",
       "  </tbody>\n",
       "</table>\n",
       "</div>"
      ],
      "text/plain": [
       "  dispatching_base_number      date  active_vehicles  trips\n",
       "0                  B02512  1/1/2015              190   1132\n",
       "1                  B02765  1/1/2015              225   1765\n",
       "2                  B02764  1/1/2015             3427  29421"
      ]
     },
     "execution_count": 56,
     "metadata": {},
     "output_type": "execute_result"
    }
   ],
   "source": [
    "uber_foil.head(3)"
   ]
  },
  {
   "cell_type": "code",
   "execution_count": null,
   "id": "69cb2747",
   "metadata": {},
   "outputs": [],
   "source": []
  },
  {
   "cell_type": "code",
   "execution_count": null,
   "id": "04a0e716",
   "metadata": {},
   "outputs": [],
   "source": []
  },
  {
   "cell_type": "code",
   "execution_count": null,
   "id": "53971360",
   "metadata": {},
   "outputs": [],
   "source": []
  },
  {
   "cell_type": "code",
   "execution_count": null,
   "id": "15b0c105",
   "metadata": {},
   "outputs": [],
   "source": []
  },
  {
   "cell_type": "code",
   "execution_count": null,
   "id": "3b1e8dc8",
   "metadata": {},
   "outputs": [],
   "source": []
  },
  {
   "cell_type": "code",
   "execution_count": null,
   "id": "8cb2d4d8",
   "metadata": {},
   "outputs": [],
   "source": []
  },
  {
   "cell_type": "code",
   "execution_count": null,
   "id": "ee0edeed",
   "metadata": {},
   "outputs": [],
   "source": []
  },
  {
   "cell_type": "code",
   "execution_count": null,
   "id": "105fc71c",
   "metadata": {},
   "outputs": [],
   "source": []
  },
  {
   "cell_type": "code",
   "execution_count": null,
   "id": "3f5511db",
   "metadata": {},
   "outputs": [],
   "source": []
  },
  {
   "cell_type": "code",
   "execution_count": null,
   "id": "3cd82dfc",
   "metadata": {},
   "outputs": [],
   "source": []
  },
  {
   "cell_type": "code",
   "execution_count": null,
   "id": "97e3fbb9",
   "metadata": {},
   "outputs": [],
   "source": []
  },
  {
   "cell_type": "code",
   "execution_count": null,
   "id": "96f55036",
   "metadata": {},
   "outputs": [],
   "source": []
  },
  {
   "cell_type": "code",
   "execution_count": null,
   "id": "ee179fc8",
   "metadata": {},
   "outputs": [],
   "source": []
  },
  {
   "cell_type": "code",
   "execution_count": null,
   "id": "82f5bd4c",
   "metadata": {},
   "outputs": [],
   "source": []
  }
 ],
 "metadata": {
  "kernelspec": {
   "display_name": "Python 3 (ipykernel)",
   "language": "python",
   "name": "python3"
  },
  "language_info": {
   "codemirror_mode": {
    "name": "ipython",
    "version": 3
   },
   "file_extension": ".py",
   "mimetype": "text/x-python",
   "name": "python",
   "nbconvert_exporter": "python",
   "pygments_lexer": "ipython3",
   "version": "3.9.7"
  }
 },
 "nbformat": 4,
 "nbformat_minor": 5
}
